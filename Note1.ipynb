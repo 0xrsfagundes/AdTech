{
 "cells": [
  {
   "attachments": {},
   "cell_type": "markdown",
   "metadata": {},
   "source": [
    "Predict the likelihood of a user clicking on an ad"
   ]
  },
  {
   "cell_type": "code",
   "execution_count": 7,
   "metadata": {},
   "outputs": [
    {
     "name": "stdout",
     "output_type": "stream",
     "text": [
      "Accuracy: 0.5\n"
     ]
    }
   ],
   "source": [
    "import pandas as pd\n",
    "from sklearn.linear_model import LogisticRegression\n",
    "from sklearn.model_selection import train_test_split\n",
    "from sklearn.metrics import accuracy_score\n",
    "from sklearn.preprocessing import LabelEncoder\n",
    "\n",
    "# Create a Pandas dataframe with the sample data\n",
    "df = pd.DataFrame({\n",
    "    'age': [25, 35, 45, 28, 42, 33],\n",
    "    'income': [50000, 75000, 90000, 60000, 85000, 70000],\n",
    "    'gender': ['Male', 'Female', 'Male', 'Female', 'Male', 'Female'],\n",
    "    'interests': ['Sports', 'Music', 'Travel', 'Fashion', 'Sports', 'Travel'],\n",
    "    'clicked_on_ad': [True, False, False, True, False, True]\n",
    "})\n",
    "\n",
    "# Label encode the categorical variables\n",
    "encoder = LabelEncoder()\n",
    "df['gender'] = encoder.fit_transform(df['gender'])\n",
    "df['interests'] = encoder.fit_transform(df['interests'])\n",
    "\n",
    "# Split the data into training and testing sets\n",
    "X_train, X_test, y_train, y_test = train_test_split(df.drop('clicked_on_ad', axis=1), df['clicked_on_ad'], test_size=0.2)\n",
    "\n",
    "# Build a logistic regression model\n",
    "lr = LogisticRegression()\n",
    "lr.fit(X_train, y_train)\n",
    "\n",
    "# Predict the likelihood of a user clicking on an ad\n",
    "y_pred = lr.predict_proba(X_test)[:, 1]\n",
    "\n",
    "# Evaluate the performance of the model\n",
    "accuracy = accuracy_score(y_test, y_pred.round())\n",
    "print('Accuracy:', accuracy)\n"
   ]
  },
  {
   "attachments": {},
   "cell_type": "markdown",
   "metadata": {},
   "source": [
    "MTA"
   ]
  },
  {
   "cell_type": "code",
   "execution_count": 1,
   "metadata": {},
   "outputs": [
    {
     "name": "stdout",
     "output_type": "stream",
     "text": [
      "First-touch attribution model:\n",
      "source\n",
      "Facebook     0.1\n",
      "Google       0.1\n",
      "Instagram    0.1\n",
      "Twitter      0.2\n",
      "Name: conversion, dtype: float64\n",
      "\n",
      "Last-touch attribution model:\n",
      "source\n",
      "Facebook     0.1\n",
      "Google       0.1\n",
      "Instagram    0.1\n",
      "Twitter      0.2\n",
      "Name: conversion, dtype: float64\n"
     ]
    }
   ],
   "source": [
    "import pandas as pd\n",
    "\n",
    "# Load sample data into a Pandas dataframe\n",
    "df = pd.DataFrame({\n",
    "    'user_id': [1, 2, 3, 4, 5, 6, 7, 8, 9, 10],\n",
    "    'source': ['Facebook', 'Facebook', 'Google', 'Google', 'Google', 'Twitter', 'Twitter', 'Twitter', 'Instagram', 'Instagram'],\n",
    "    'conversion': [False, True, False, True, False, True, False, True, False, True]\n",
    "})\n",
    "\n",
    "# First-touch attribution model\n",
    "first_touch = df.drop_duplicates(subset=['user_id'], keep='first')\n",
    "first_touch_conversions = first_touch.groupby('source')['conversion'].sum()\n",
    "first_touch_conversion_rate = first_touch_conversions / len(first_touch)\n",
    "\n",
    "print('First-touch attribution model:')\n",
    "print(first_touch_conversion_rate)\n",
    "\n",
    "# Last-touch attribution model\n",
    "last_touch = df.drop_duplicates(subset=['user_id'], keep='last')\n",
    "last_touch_conversions = last_touch.groupby('source')['conversion'].sum()\n",
    "last_touch_conversion_rate = last_touch_conversions / len(last_touch)\n",
    "\n",
    "print('\\nLast-touch attribution model:')\n",
    "print(last_touch_conversion_rate)\n"
   ]
  },
  {
   "attachments": {},
   "cell_type": "markdown",
   "metadata": {},
   "source": [
    "Incrementality-based Attribution"
   ]
  },
  {
   "cell_type": "code",
   "execution_count": 7,
   "metadata": {},
   "outputs": [
    {
     "name": "stdout",
     "output_type": "stream",
     "text": [
      "Incremental conversion rate: 0.3333333333333333\n",
      "Incremental lift: inf\n",
      "Incremental ROI: -1.3462091026813194\n"
     ]
    },
    {
     "name": "stderr",
     "output_type": "stream",
     "text": [
      "/Users/rsfagundes/Library/Python/3.7/lib/python/site-packages/ipykernel_launcher.py:25: RuntimeWarning: divide by zero encountered in double_scalars\n"
     ]
    }
   ],
   "source": [
    "import pandas as pd\n",
    "from sklearn.linear_model import LogisticRegression\n",
    "\n",
    "# Define the ad data as a Pandas DataFrame\n",
    "data = pd.DataFrame({\n",
    "    'treatment': [0, 0, 1, 1, 1],\n",
    "    'converted': [0, 0, 0, 1, 0],\n",
    "    'revenue': [0, 0, 0, 100, 0],\n",
    "    'cost': [50, 60, 70, 80, 75]\n",
    "})\n",
    "\n",
    "# Compute incremental conversions and revenue using logistic regression\n",
    "model = LogisticRegression(random_state=0).fit(data[['treatment']], data['converted'])\n",
    "data['incremental_conversions'] = model.predict_proba(data[['treatment']])[:, 1] - data['converted']\n",
    "data['incremental_revenue'] = data['incremental_conversions'] * data['revenue']\n",
    "\n",
    "# Compute incremental ROI\n",
    "incremental_profit = data['incremental_revenue'].sum() - data.loc[data['treatment'] == 1, 'cost'].sum()\n",
    "incremental_roi = incremental_profit / data.loc[data['treatment'] == 1, 'cost'].sum()\n",
    "\n",
    "# Compute incremental conversion rate and lift\n",
    "control = data.loc[data['treatment'] == 0, 'converted'].mean()\n",
    "treatment = data.loc[data['treatment'] == 1, 'converted'].mean()\n",
    "incremental_conversion_rate = treatment - control\n",
    "incremental_lift = incremental_conversion_rate / control\n",
    "\n",
    "print('Incremental conversion rate:', incremental_conversion_rate)\n",
    "print('Incremental lift:', incremental_lift)\n",
    "print('Incremental ROI:', incremental_roi)\n"
   ]
  }
 ],
 "metadata": {
  "kernelspec": {
   "display_name": "Python 3",
   "language": "python",
   "name": "python3"
  },
  "language_info": {
   "codemirror_mode": {
    "name": "ipython",
    "version": 3
   },
   "file_extension": ".py",
   "mimetype": "text/x-python",
   "name": "python",
   "nbconvert_exporter": "python",
   "pygments_lexer": "ipython3",
   "version": "3.7.3"
  },
  "orig_nbformat": 4
 },
 "nbformat": 4,
 "nbformat_minor": 2
}
